{
 "cells": [
  {
   "cell_type": "code",
   "execution_count": 180,
   "metadata": {},
   "outputs": [],
   "source": [
    "import instructor\n",
    "from groq import Groq\n",
    "from pydantic import BaseModel\n",
    "import os\n",
    "from dotenv import load_dotenv\n",
    "from typing import Dict, Tuple, List\n",
    "import requests\n",
    "from litellm import completion\n",
    "import psycopg2.pool as pool\n"
   ]
  },
  {
   "cell_type": "code",
   "execution_count": 178,
   "metadata": {},
   "outputs": [],
   "source": [
    "# loading env\n",
    "load_dotenv()\n",
    "client = Groq(\n",
    "    api_key=os.environ.get(\"GROQ_API_KEY\"),\n",
    ")\n",
    "nessie_key = os.environ.get(\"NESSIE_API_KEY\")\n",
    "connection_string = os.getenv('DATABASE_URL')"
   ]
  },
  {
   "cell_type": "code",
   "execution_count": 139,
   "metadata": {},
   "outputs": [],
   "source": [
    "#data types\n",
    "class DataGeneration(BaseModel):\n",
    "    income: float\n",
    "    credit_score: float\n",
    "    stocks_owned: List[str]\n",
    "    annual_income: float\n",
    "    recent_purchases: List[str]\n",
    "    extra_comments: str\n",
    "    feedback: str\n",
    "    experience: int\n",
    "class UserGeneration(BaseModel):\n",
    "    first_name: str\n",
    "    last_name: str\n",
    "    street_number:str\n",
    "    street_name:str\n",
    "    city:str\n",
    "    state:str\n",
    "    zip:str\n",
    "    \n",
    "    "
   ]
  },
  {
   "cell_type": "code",
   "execution_count": 153,
   "metadata": {},
   "outputs": [],
   "source": [
    "#Finance data gen prompt\n",
    "prompt = \"\"\"I need to generate financial data. I need you to generate annual income which will be a value between 40k-300k(can be a decimal too), I want you to generate a number for credit score, I need you to generate a list of stocks owned, I need you to generate some extra comments after a user's experience talking to an AI agent which is asking financial questions to get information, I need you to generate extra comments, I need you to generate some feedback regadring the same. I need you to generate a number between 1 and 5 for experience. Generate random data because you are a bot that is generating synthetic data, try not to repeat and Return it as a JSON object. Here is an example {'income': 127850.23,\n",
    "  'credit_score': 720.0,\n",
    "  'stocks_owned': ['AAPL', 'GOOGL', 'MSFT', 'AMZN', 'FB'],\n",
    "  'annual_income': 127850.23,\n",
    "  'recent_purchases': ['MSFT', 'AMZN', 'TSLA', 'AAPL'],\n",
    "  'extra_comments': 'The chatbot was quite helpful in guiding me through the financial questions. The interaction was smooth and the questions were relevant.',\n",
    "  'feedback': 'Overall, the experience was positive. The AI agent was knowledgeable and the conversation was informative.',\n",
    "  'experience': 4}\"\"\"\n"
   ]
  },
  {
   "cell_type": "code",
   "execution_count": 141,
   "metadata": {},
   "outputs": [],
   "source": [
    "prompt2 = \"\"\"I need to generate general info like name address and all which should be random and should not repeat. Please generate a user with the following information:\n",
    "                - first_name\n",
    "                - last_name\n",
    "                - street_number\n",
    "                - street_name\n",
    "                - city\n",
    "                - state\n",
    "                - zip\n",
    "                \n",
    "                Return it as a JSON object.\"\"\""
   ]
  },
  {
   "cell_type": "code",
   "execution_count": 142,
   "metadata": {},
   "outputs": [],
   "source": [
    "#client model\n",
    "# client = instructor.from_groq(client, mode=instructor.Mode.TOOLS)\n",
    "client = instructor.from_litellm(completion, mode =instructor.Mode.MD_JSON)\n",
    "\n"
   ]
  },
  {
   "cell_type": "code",
   "execution_count": null,
   "metadata": {},
   "outputs": [],
   "source": [
    "# finance data gen\n",
    "finance_data=[]\n",
    "i =0\n",
    "while i<50:\n",
    "\n",
    "    response = client.chat.completions.create(\n",
    "        model=\"groq/llama3-8b-8192\",\n",
    "        max_tokens=1024,\n",
    "        messages=[{ \"role\": \"user\",\"content\": prompt,}],\n",
    "        response_model=DataGeneration,\n",
    "    )\n",
    "    temp_data ={\"income\":response.income,\"credit_score\":response.credit_score,\"stocks_owned\":response.stocks_owned,\"annual_income\":response.annual_income,\n",
    "                \"recent_purchases\":response.recent_purchases,\"extra_comments\":response.extra_comments,\"feedback\":response.feedback,\"experience\":response.experience}\n",
    "    print(temp_data)\n",
    "    i+=1\n",
    "    finance_data.append(temp_data)\n",
    "    \n",
    "    \n"
   ]
  },
  {
   "cell_type": "code",
   "execution_count": null,
   "metadata": {},
   "outputs": [],
   "source": [
    "finance_data"
   ]
  },
  {
   "cell_type": "code",
   "execution_count": null,
   "metadata": {},
   "outputs": [],
   "source": [
    "#user data gen\n",
    "count =0\n",
    "url = f\"http://api.nessieisreal.com/customers?key={nessie_key}\"\n",
    "user_data=[]\n",
    "i =0\n",
    "while count<50:\n",
    "    response2 = client.chat.completions.create(\n",
    "        model=\"groq/llama3-8b-8192\",\n",
    "        max_tokens=1024,\n",
    "        messages=[{ \"role\": \"user\",\"content\": prompt2,}],\n",
    "        response_model=UserGeneration,\n",
    "    )\n",
    "    customer_data = {\n",
    "    \"first_name\": response2.first_name,\n",
    "    \"last_name\": response2.last_name,\n",
    "    \"address\": {\n",
    "        \"street_number\": response2.street_number,\n",
    "        \"street_name\": response2.street_name,\n",
    "        \"city\": response2.city,\n",
    "        \"state\": response2.state,\n",
    "        \"zip\": response2.zip\n",
    "    }\n",
    "        }\n",
    "    user_data.append(customer_data)\n",
    "    print(customer_data)\n",
    "    headers = {\n",
    "    \"Content-Type\": \"application/json\",\n",
    "    \"Accept\": \"application/json\"\n",
    "        }\n",
    "\n",
    "# Make the POST request\n",
    "    response = requests.post(url, json=customer_data, headers=headers)\n",
    "\n",
    "# Check if the request was successful\n",
    "    if response.status_code == 201:\n",
    "        print(\"Customer created successfully!\")\n",
    "        count+=1\n",
    "    \n",
    "        \n",
    "    i+=1\n",
    "    \n",
    "    "
   ]
  },
  {
   "cell_type": "code",
   "execution_count": 175,
   "metadata": {},
   "outputs": [
    {
     "name": "stdout",
     "output_type": "stream",
     "text": [
      "50\n"
     ]
    }
   ],
   "source": [
    "url = f\"http://api.nessieisreal.com/customers?key={nessie_key}\"\n",
    "headers = {\n",
    "    \"Accept\": \"application/json\"\n",
    "}\n",
    "\n",
    "# Make the GET request\n",
    "response = requests.get(url, headers=headers)\n",
    "customers = response.json()\n",
    "print(len(customers))\n",
    "# for customer in customers:\n",
    "#     print(f\"Customer ID: {customer['_id']}\")\n",
    "#     print(f\"First Name: {customer['first_name']}\")\n",
    "#     print(f\"Last Name: {customer['last_name']}\")\n",
    "#     print(f\"Address: {customer['address']['street_number']} {customer['address']['street_name']}, {customer['address']['city']}, {customer['address']['state']} {customer['address']['zip']}\")\n",
    "#     print(\"-\" * 40)  # Separator for readability\n",
    "\n",
    "\n"
   ]
  },
  {
   "cell_type": "code",
   "execution_count": 177,
   "metadata": {},
   "outputs": [],
   "source": [
    "# implementing Postgress through NEON"
   ]
  },
  {
   "cell_type": "code",
   "execution_count": 189,
   "metadata": {},
   "outputs": [
    {
     "name": "stdout",
     "output_type": "stream",
     "text": [
      "Connection pool created successfully\n"
     ]
    }
   ],
   "source": [
    "#create connection pool and establish connection\n",
    "connection_pool = pool.SimpleConnectionPool(\n",
    "    1,  # Minimum number of connections in the pool\n",
    "    10,  # Maximum number of connections in the pool\n",
    "    connection_string\n",
    ")\n",
    "if connection_pool:\n",
    "    print(\"Connection pool created successfully\")\n",
    "else:\n",
    "    print(\"connection pool missing\")\n",
    "conn = connection_pool.getconn()\n",
    "cur = conn.cursor()"
   ]
  },
  {
   "cell_type": "code",
   "execution_count": null,
   "metadata": {},
   "outputs": [],
   "source": [
    "create_table_query = \"\"\"\n",
    "CREATE TABLE customer_data (\n",
    "    id SERIAL PRIMARY KEY,\n",
    "    first_name VARCHAR(255) NOT NULL,\n",
    "    last_name VARCHAR(255) NOT NULL,\n",
    "    street_number VARCHAR(255) NOT NULL,\n",
    "    street_name VARCHAR(255) NOT NULL,\n",
    "    city VARCHAR(255) NOT NULL,\n",
    "    state VARCHAR(255) NOT NULL,\n",
    "    zip VARCHAR(255) NOT NULL,\n",
    "    income FLOAT NOT NULL,\n",
    "    credit_score FLOAT NOT NULL,\n",
    "    stocks_owned JSONB NOT NULL,\n",
    "    annual_income FLOAT NOT NULL,\n",
    "    recent_purchases JSONB NOT NULL,\n",
    "    extra_comments TEXT,\n",
    "    feedback TEXT,\n",
    "    experience INT NOT NULL\n",
    ");\n",
    "\"\"\"\n",
    "\n",
    "# Execute the SQL query\n",
    "cur.execute(create_table_query)\n",
    "conn.commit()\n",
    "\n"
   ]
  },
  {
   "cell_type": "code",
   "execution_count": 190,
   "metadata": {},
   "outputs": [],
   "source": [
    "connection_pool.closeall()\n"
   ]
  }
 ],
 "metadata": {
  "kernelspec": {
   "display_name": "Python 3",
   "language": "python",
   "name": "python3"
  },
  "language_info": {
   "codemirror_mode": {
    "name": "ipython",
    "version": 3
   },
   "file_extension": ".py",
   "mimetype": "text/x-python",
   "name": "python",
   "nbconvert_exporter": "python",
   "pygments_lexer": "ipython3",
   "version": "3.12.2"
  }
 },
 "nbformat": 4,
 "nbformat_minor": 2
}
